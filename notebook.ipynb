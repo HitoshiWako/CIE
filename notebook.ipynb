{
 "cells": [
  {
   "cell_type": "code",
   "execution_count": 1,
   "metadata": {},
   "outputs": [],
   "source": [
    "import pandas as pd"
   ]
  },
  {
   "cell_type": "code",
   "execution_count": 2,
   "metadata": {},
   "outputs": [],
   "source": [
    "df_xyz = pd.read_csv('DATASETS/CIE_xyz_1931_2deg.csv',names=['x','y','z'],index_col=0)\n",
    "df_illum = pd.read_csv('DATASETS/CIE_std_illum_D65.csv',names=['s'],index_col=0)\n",
    "df_xyz = df_xyz.loc[360:780]\n",
    "df_illum = df_illum.loc[360:780]\n",
    "(Xw,Yw,Zw) = df_xyz.T.dot(df_illum['s'])\n",
    "(Xn,Yn,Zn)=(Xw/Yw*100,Yw/Yw*100,Zw/Yw*100)"
   ]
  },
  {
   "cell_type": "code",
   "execution_count": 3,
   "metadata": {},
   "outputs": [],
   "source": [
    "def xyz_lab(X,Y,Z):\n",
    "    def f(t):\n",
    "        return t**(1/3) if t > (6/29)**3 else 1/3*(29/6)**2*t+4/29\n",
    "    fy = f(Y/Yn)\n",
    "    return 116*fy-16,500*(f(X/Xn)-fy),200*(fy-f(Z/Zn))    "
   ]
  },
  {
   "cell_type": "code",
   "execution_count": 4,
   "metadata": {},
   "outputs": [],
   "source": [
    "df_ref = pd.read_csv('reflect.txt',sep='\\t',names=['r'],skiprows=1,index_col=0)\n",
    "df_ref = df_ref.loc[360:780]"
   ]
  },
  {
   "cell_type": "code",
   "execution_count": 5,
   "metadata": {},
   "outputs": [
    {
     "name": "stdout",
     "output_type": "stream",
     "text": [
      "23.66034249512039 20.42345375070526 21.856954260265553\n"
     ]
    }
   ],
   "source": [
    "(X,Y,Z) = df_xyz.mul(df_illum['s'],axis=0).T.dot(df_ref['r'])/Yw*100\n",
    "print(X,Y,Z)"
   ]
  },
  {
   "cell_type": "code",
   "execution_count": 6,
   "metadata": {},
   "outputs": [
    {
     "data": {
      "text/plain": [
       "(52.31263716346942, 20.08069635612153, 0.6760171715413543)"
      ]
     },
     "execution_count": 6,
     "metadata": {},
     "output_type": "execute_result"
    }
   ],
   "source": [
    "xyz_lab(X,Y,Z)"
   ]
  }
 ],
 "metadata": {
  "kernelspec": {
   "display_name": "Python 3",
   "language": "python",
   "name": "python3"
  },
  "language_info": {
   "codemirror_mode": {
    "name": "ipython",
    "version": 3
   },
   "file_extension": ".py",
   "mimetype": "text/x-python",
   "name": "python",
   "nbconvert_exporter": "python",
   "pygments_lexer": "ipython3",
   "version": "3.9.9"
  }
 },
 "nbformat": 4,
 "nbformat_minor": 2
}
