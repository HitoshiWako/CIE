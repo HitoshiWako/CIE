{
 "cells": [
  {
   "cell_type": "code",
   "execution_count": 4,
   "metadata": {},
   "outputs": [],
   "source": [
    "import pandas as pd\n",
    "import cie"
   ]
  },
  {
   "cell_type": "code",
   "execution_count": 5,
   "metadata": {},
   "outputs": [],
   "source": [
    "spec = pd.read_csv('reflect.txt',sep='\\t',names=['spec'],skiprows=1,index_col=0)\n",
    "spec = spec.loc[360:780]"
   ]
  },
  {
   "cell_type": "code",
   "execution_count": null,
   "metadata": {},
   "outputs": [
    {
     "name": "stdout",
     "output_type": "stream",
     "text": [
      "x    23.660342\n",
      "y    20.423454\n",
      "z    21.856954\n",
      "dtype: float64\n"
     ]
    }
   ],
   "source": [
    "XYZ = cie.spectrum_xyz(spec['spec'])\n",
    "print(XYZ)"
   ]
  },
  {
   "cell_type": "code",
   "execution_count": 7,
   "metadata": {},
   "outputs": [
    {
     "name": "stdout",
     "output_type": "stream",
     "text": [
      "(52.31263716346942, 20.08069635612153, 0.6760171715413543)\n"
     ]
    }
   ],
   "source": [
    "LAB = cie.xyz_lab(*XYZ)\n",
    "print(LAB)"
   ]
  }
 ],
 "metadata": {
  "kernelspec": {
   "display_name": ".venv",
   "language": "python",
   "name": "python3"
  },
  "language_info": {
   "codemirror_mode": {
    "name": "ipython",
    "version": 3
   },
   "file_extension": ".py",
   "mimetype": "text/x-python",
   "name": "python",
   "nbconvert_exporter": "python",
   "pygments_lexer": "ipython3",
   "version": "3.9.19"
  }
 },
 "nbformat": 4,
 "nbformat_minor": 2
}
